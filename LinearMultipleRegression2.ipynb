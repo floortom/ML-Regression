{
 "cells": [
  {
   "cell_type": "markdown",
   "id": "33bdb11e-fed5-4b1e-aa7a-70e2a214dce7",
   "metadata": {},
   "source": [
    "We will make our first attempt at machine learning or artificial intelligence model creation <br>\n",
    "by using a **feature selection algorithm** usually called **forward selection**.\n",
    "- **Forward selection of variables (features)** means that **on the first pass of the forward selection algorithm** we test all variables or features individually and put **the most significant variable** into our model.\n",
    "- **On the second pass of the algorithm** we test all other variables against the most significant variable and once again select **the second most significant variable** for use in our model together with the most significant variable.\n",
    "- On the third pass we test the remaining variables against our two selected variables and continue the process until none of the remaining variables contribute significantly to our prediction or we run out of variables (features)."
   ]
  },
  {
   "cell_type": "markdown",
   "id": "e4571976-3f0e-4563-9d58-fd41ae6de83d",
   "metadata": {},
   "source": [
    "Forward selection can be done in very many ways.<br>\n",
    "This particular way of using inferential probability values related to scientific hypothesis testing has some scientific appeal <br>\n",
    "and will reduce the effects of chance in smaller datasets.<br>\n",
    "Another popular way to use forward selection is through the *R2 adjusted* statistic as a measure of accuracy <br>\n",
    "with the model considered complete when new variables don't contribute to accuracy anymore.<br>\n",
    "Or considering a threshold for example to stop further additions of variables <br>\n",
    "when their contribution to accuracy is lower than for example 1%, 5% or 10%. <br>\n",
    "In our way of forward selection with probability values we use a 5% probability value threshold for including variables."
   ]
  },
  {
   "cell_type": "markdown",
   "id": "15000567-b748-4bb4-9a01-d4aa2b934db0",
   "metadata": {},
   "source": [
    "# Libraries"
   ]
  },
  {
   "cell_type": "code",
   "execution_count": 1,
   "id": "34601f84-ac90-4c40-9bbb-8976032e6d49",
   "metadata": {},
   "outputs": [],
   "source": [
    "import pandas as pd\n",
    "import matplotlib.pyplot as plt\n",
    "from sklearn import datasets\n",
    "import statsmodels.formula.api as smf\n",
    "import warnings \n",
    "warnings.filterwarnings(\"ignore\")"
   ]
  },
  {
   "cell_type": "code",
   "execution_count": 2,
   "id": "7ea81cd5-0916-421f-abd3-4f5f8fa008b9",
   "metadata": {},
   "outputs": [
    {
     "data": {
      "text/html": [
       "<div>\n",
       "<style scoped>\n",
       "    .dataframe tbody tr th:only-of-type {\n",
       "        vertical-align: middle;\n",
       "    }\n",
       "\n",
       "    .dataframe tbody tr th {\n",
       "        vertical-align: top;\n",
       "    }\n",
       "\n",
       "    .dataframe thead th {\n",
       "        text-align: right;\n",
       "    }\n",
       "</style>\n",
       "<table border=\"1\" class=\"dataframe\">\n",
       "  <thead>\n",
       "    <tr style=\"text-align: right;\">\n",
       "      <th></th>\n",
       "      <th>age</th>\n",
       "      <th>sex</th>\n",
       "      <th>bmi</th>\n",
       "      <th>bp</th>\n",
       "      <th>s1</th>\n",
       "      <th>s2</th>\n",
       "      <th>s3</th>\n",
       "      <th>s4</th>\n",
       "      <th>s5</th>\n",
       "      <th>s6</th>\n",
       "      <th>Target</th>\n",
       "    </tr>\n",
       "  </thead>\n",
       "  <tbody>\n",
       "    <tr>\n",
       "      <th>0</th>\n",
       "      <td>0.038076</td>\n",
       "      <td>0.050680</td>\n",
       "      <td>0.061696</td>\n",
       "      <td>0.021872</td>\n",
       "      <td>-0.044223</td>\n",
       "      <td>-0.034821</td>\n",
       "      <td>-0.043401</td>\n",
       "      <td>-0.002592</td>\n",
       "      <td>0.019907</td>\n",
       "      <td>-0.017646</td>\n",
       "      <td>151.0</td>\n",
       "    </tr>\n",
       "    <tr>\n",
       "      <th>1</th>\n",
       "      <td>-0.001882</td>\n",
       "      <td>-0.044642</td>\n",
       "      <td>-0.051474</td>\n",
       "      <td>-0.026328</td>\n",
       "      <td>-0.008449</td>\n",
       "      <td>-0.019163</td>\n",
       "      <td>0.074412</td>\n",
       "      <td>-0.039493</td>\n",
       "      <td>-0.068332</td>\n",
       "      <td>-0.092204</td>\n",
       "      <td>75.0</td>\n",
       "    </tr>\n",
       "    <tr>\n",
       "      <th>2</th>\n",
       "      <td>0.085299</td>\n",
       "      <td>0.050680</td>\n",
       "      <td>0.044451</td>\n",
       "      <td>-0.005670</td>\n",
       "      <td>-0.045599</td>\n",
       "      <td>-0.034194</td>\n",
       "      <td>-0.032356</td>\n",
       "      <td>-0.002592</td>\n",
       "      <td>0.002861</td>\n",
       "      <td>-0.025930</td>\n",
       "      <td>141.0</td>\n",
       "    </tr>\n",
       "    <tr>\n",
       "      <th>3</th>\n",
       "      <td>-0.089063</td>\n",
       "      <td>-0.044642</td>\n",
       "      <td>-0.011595</td>\n",
       "      <td>-0.036656</td>\n",
       "      <td>0.012191</td>\n",
       "      <td>0.024991</td>\n",
       "      <td>-0.036038</td>\n",
       "      <td>0.034309</td>\n",
       "      <td>0.022688</td>\n",
       "      <td>-0.009362</td>\n",
       "      <td>206.0</td>\n",
       "    </tr>\n",
       "    <tr>\n",
       "      <th>4</th>\n",
       "      <td>0.005383</td>\n",
       "      <td>-0.044642</td>\n",
       "      <td>-0.036385</td>\n",
       "      <td>0.021872</td>\n",
       "      <td>0.003935</td>\n",
       "      <td>0.015596</td>\n",
       "      <td>0.008142</td>\n",
       "      <td>-0.002592</td>\n",
       "      <td>-0.031988</td>\n",
       "      <td>-0.046641</td>\n",
       "      <td>135.0</td>\n",
       "    </tr>\n",
       "  </tbody>\n",
       "</table>\n",
       "</div>"
      ],
      "text/plain": [
       "        age       sex       bmi        bp        s1        s2        s3  \\\n",
       "0  0.038076  0.050680  0.061696  0.021872 -0.044223 -0.034821 -0.043401   \n",
       "1 -0.001882 -0.044642 -0.051474 -0.026328 -0.008449 -0.019163  0.074412   \n",
       "2  0.085299  0.050680  0.044451 -0.005670 -0.045599 -0.034194 -0.032356   \n",
       "3 -0.089063 -0.044642 -0.011595 -0.036656  0.012191  0.024991 -0.036038   \n",
       "4  0.005383 -0.044642 -0.036385  0.021872  0.003935  0.015596  0.008142   \n",
       "\n",
       "         s4        s5        s6  Target  \n",
       "0 -0.002592  0.019907 -0.017646   151.0  \n",
       "1 -0.039493 -0.068332 -0.092204    75.0  \n",
       "2 -0.002592  0.002861 -0.025930   141.0  \n",
       "3  0.034309  0.022688 -0.009362   206.0  \n",
       "4 -0.002592 -0.031988 -0.046641   135.0  "
      ]
     },
     "execution_count": 2,
     "metadata": {},
     "output_type": "execute_result"
    }
   ],
   "source": [
    "diabetes = datasets.load_diabetes()\n",
    "DiaB = pd.DataFrame(data = diabetes.data, columns=diabetes.feature_names)\n",
    "DiaB[\"Target\"] = diabetes.target\n",
    "DiaB2 = DiaB.copy(deep=True)\n",
    "DiaB.head()"
   ]
  },
  {
   "cell_type": "markdown",
   "id": "e779860d-eefb-4855-a545-0ea45b8a4617",
   "metadata": {},
   "source": [
    "# Create a Regression model"
   ]
  },
  {
   "cell_type": "markdown",
   "id": "f67170b6-79c4-4e0d-b5eb-5eb1f92f3330",
   "metadata": {},
   "source": [
    "Using ML Forward Selection"
   ]
  },
  {
   "cell_type": "code",
   "execution_count": 3,
   "id": "aa7f0cea-0c18-4c92-af25-1834948dfb5e",
   "metadata": {
    "scrolled": true
   },
   "outputs": [
    {
     "name": "stdout",
     "output_type": "stream",
     "text": [
      "Target ~ age\n",
      "Target ~ sex\n",
      "Target ~ s4\n",
      "Target ~ s3\n",
      "Target ~ s1\n",
      "Target ~ bmi\n",
      "Target ~ s5\n",
      "Target ~ bp\n",
      "Target ~ s6\n",
      "Target ~ s2\n",
      "Target ~ bmi+age\n",
      "Target ~ bmi+sex\n",
      "Target ~ bmi+s4\n",
      "Target ~ bmi+s3\n",
      "Target ~ bmi+s1\n",
      "Target ~ bmi+s5\n",
      "Target ~ bmi+bp\n",
      "Target ~ bmi+s6\n",
      "Target ~ bmi+s2\n",
      "Target ~ bmi+s5+age\n",
      "Target ~ bmi+s5+sex\n",
      "Target ~ bmi+s5+s4\n",
      "Target ~ bmi+s5+s3\n",
      "Target ~ bmi+s5+s1\n",
      "Target ~ bmi+s5+bp\n",
      "Target ~ bmi+s5+s6\n",
      "Target ~ bmi+s5+s2\n",
      "Target ~ bmi+s5+bp+age\n",
      "Target ~ bmi+s5+bp+sex\n",
      "Target ~ bmi+s5+bp+s4\n",
      "Target ~ bmi+s5+bp+s3\n",
      "Target ~ bmi+s5+bp+s1\n",
      "Target ~ bmi+s5+bp+s6\n",
      "Target ~ bmi+s5+bp+s2\n",
      "Target ~ bmi+s5+bp+s1+age\n",
      "Target ~ bmi+s5+bp+s1+sex\n",
      "Target ~ bmi+s5+bp+s1+s4\n",
      "Target ~ bmi+s5+bp+s1+s3\n",
      "Target ~ bmi+s5+bp+s1+s6\n",
      "Target ~ bmi+s5+bp+s1+s2\n",
      "Target ~ bmi+s5+bp+s1+sex+age\n",
      "Target ~ bmi+s5+bp+s1+sex+s4\n",
      "Target ~ bmi+s5+bp+s1+sex+s3\n",
      "Target ~ bmi+s5+bp+s1+sex+s6\n",
      "Target ~ bmi+s5+bp+s1+sex+s2\n",
      "Target ~ bmi+s5+bp+s1+sex+s2+age\n",
      "Target ~ bmi+s5+bp+s1+sex+s2+s4\n",
      "Target ~ bmi+s5+bp+s1+sex+s2+s3\n",
      "Target ~ bmi+s5+bp+s1+sex+s2+s6\n"
     ]
    }
   ],
   "source": [
    "# Start with all column names except the target variable\n",
    "vars = set(DiaB.columns)\n",
    "vars.remove(\"Target\")  # 'Target' is the dependent variable\n",
    "modelVars = []  # List to store selected independent variables\n",
    "bestPval = 0  # Initialize best p-value\n",
    "pValThresh = 0.05  # Threshold for statistical significance\n",
    "\n",
    "# Continue looping while there are variables left and the best p-value is below the threshold\n",
    "while (len(vars) > 0) and (bestPval < pValThresh):\n",
    "    testModels = []  # Temporary list to store (p-value, variable) pairs for this iteration\n",
    "    for var in vars:\n",
    "        # Build a regression formula with current modelVars + the new candidate variable\n",
    "        regrModel = f\"Target ~ {'+'.join(modelVars + [var])}\"\n",
    "        print(regrModel)  # Optional: print the formula being tested\n",
    "\n",
    "        # Create and fit the regression model\n",
    "        testModel = smf.ols(regrModel, DiaB)\n",
    "        testModelFit = testModel.fit()\n",
    "\n",
    "        \n",
    "        # Get the p-value of the candidate variable (assumed to be the last one added)\n",
    "        # SAFER alternative: testmodelFit.pvalues[var]\n",
    "        pvalTestModel = testModelFit.pvalues[-1]\n",
    "\n",
    "        # Store the p-value and variable name for comparison\n",
    "        testModels.append((pvalTestModel, var))\n",
    "\n",
    "    # Sort the list of test models by p-value (lowest first)\n",
    "    testModels.sort()\n",
    "\n",
    "    # Select the variable with the lowest p-value\n",
    "    bestPval, selectedVar = testModels.pop(0)\n",
    "\n",
    "    # If it's statistically significant, add it to the model\n",
    "    if bestPval < pValThresh:\n",
    "        modelVars.append(selectedVar)  # Add to selected variables\n",
    "        vars.remove(selectedVar)  # Remove from candidates"
   ]
  },
  {
   "cell_type": "markdown",
   "id": "59311dc5-7108-4f75-917f-cf40e0c26281",
   "metadata": {},
   "source": [
    "# Create the final model"
   ]
  },
  {
   "cell_type": "code",
   "execution_count": 4,
   "id": "b9a52ab0-6eba-4a3a-8eb8-e83ba1b3dc9f",
   "metadata": {},
   "outputs": [
    {
     "data": {
      "text/plain": [
       "['bmi', 's5', 'bp', 's1', 'sex', 's2']"
      ]
     },
     "execution_count": 4,
     "metadata": {},
     "output_type": "execute_result"
    }
   ],
   "source": [
    "modelVars"
   ]
  },
  {
   "cell_type": "code",
   "execution_count": 7,
   "id": "e61f525d-083b-4ec0-afda-5093db15d02d",
   "metadata": {},
   "outputs": [
    {
     "name": "stdout",
     "output_type": "stream",
     "text": [
      "                            OLS Regression Results                            \n",
      "==============================================================================\n",
      "Dep. Variable:                 Target   R-squared:                       0.515\n",
      "Model:                            OLS   Adj. R-squared:                  0.508\n",
      "Method:                 Least Squares   F-statistic:                     76.95\n",
      "Date:                Thu, 02 Oct 2025   Prob (F-statistic):           3.01e-65\n",
      "Time:                        08:30:07   Log-Likelihood:                -2387.3\n",
      "No. Observations:                 442   AIC:                             4789.\n",
      "Df Residuals:                     435   BIC:                             4817.\n",
      "Df Model:                           6                                         \n",
      "Covariance Type:            nonrobust                                         \n",
      "==============================================================================\n",
      "                 coef    std err          t      P>|t|      [0.025      0.975]\n",
      "------------------------------------------------------------------------------\n",
      "Intercept    152.1335      2.572     59.159      0.000     147.079     157.188\n",
      "bmi          529.8796     65.620      8.075      0.000     400.908     658.852\n",
      "s5           804.1874     80.173     10.031      0.000     646.613     961.762\n",
      "bp           327.2150     62.693      5.219      0.000     203.996     450.434\n",
      "s1          -757.9303    160.435     -4.724      0.000   -1073.254    -442.606\n",
      "sex         -226.5066     59.857     -3.784      0.000    -344.151    -108.863\n",
      "s2           538.5797    146.738      3.670      0.000     250.176     826.983\n",
      "==============================================================================\n",
      "Omnibus:                        1.187   Durbin-Watson:                   2.043\n",
      "Prob(Omnibus):                  0.552   Jarque-Bera (JB):                1.172\n",
      "Skew:                           0.016   Prob(JB):                        0.557\n",
      "Kurtosis:                       2.750   Cond. No.                         85.7\n",
      "==============================================================================\n",
      "\n",
      "Notes:\n",
      "[1] Standard Errors assume that the covariance matrix of the errors is correctly specified.\n"
     ]
    }
   ],
   "source": [
    "regrModel = f\"Target ~ {'+'.join(modelVars)}\"\n",
    "model = smf.ols(regrModel, DiaB).fit()\n",
    "print(model.summary())"
   ]
  },
  {
   "cell_type": "markdown",
   "id": "6c55a1bc-aa68-487a-8ab3-d2e02f4c7574",
   "metadata": {},
   "source": [
    "## Create model predictions and residuals"
   ]
  },
  {
   "cell_type": "markdown",
   "id": "9b50c542-4314-484f-8d7a-7d0b4e6492a4",
   "metadata": {},
   "source": [
    "To compare this model creation process with the manual process"
   ]
  },
  {
   "cell_type": "code",
   "execution_count": 9,
   "id": "51b69d34-3854-4543-aeec-12d3f17dd238",
   "metadata": {},
   "outputs": [
    {
     "data": {
      "text/html": [
       "<div>\n",
       "<style scoped>\n",
       "    .dataframe tbody tr th:only-of-type {\n",
       "        vertical-align: middle;\n",
       "    }\n",
       "\n",
       "    .dataframe tbody tr th {\n",
       "        vertical-align: top;\n",
       "    }\n",
       "\n",
       "    .dataframe thead th {\n",
       "        text-align: right;\n",
       "    }\n",
       "</style>\n",
       "<table border=\"1\" class=\"dataframe\">\n",
       "  <thead>\n",
       "    <tr style=\"text-align: right;\">\n",
       "      <th></th>\n",
       "      <th>age</th>\n",
       "      <th>sex</th>\n",
       "      <th>bmi</th>\n",
       "      <th>bp</th>\n",
       "      <th>s1</th>\n",
       "      <th>s2</th>\n",
       "      <th>s3</th>\n",
       "      <th>s4</th>\n",
       "      <th>s5</th>\n",
       "      <th>s6</th>\n",
       "      <th>Target</th>\n",
       "      <th>yPred</th>\n",
       "      <th>Residual</th>\n",
       "      <th>Standardized Res</th>\n",
       "    </tr>\n",
       "  </thead>\n",
       "  <tbody>\n",
       "    <tr>\n",
       "      <th>0</th>\n",
       "      <td>0.038076</td>\n",
       "      <td>0.050680</td>\n",
       "      <td>0.061696</td>\n",
       "      <td>0.021872</td>\n",
       "      <td>-0.044223</td>\n",
       "      <td>-0.034821</td>\n",
       "      <td>-0.043401</td>\n",
       "      <td>-0.002592</td>\n",
       "      <td>0.019907</td>\n",
       "      <td>-0.017646</td>\n",
       "      <td>151.0</td>\n",
       "      <td>211.276563</td>\n",
       "      <td>-60.276563</td>\n",
       "      <td>-1.122563</td>\n",
       "    </tr>\n",
       "    <tr>\n",
       "      <th>1</th>\n",
       "      <td>-0.001882</td>\n",
       "      <td>-0.044642</td>\n",
       "      <td>-0.051474</td>\n",
       "      <td>-0.026328</td>\n",
       "      <td>-0.008449</td>\n",
       "      <td>-0.019163</td>\n",
       "      <td>0.074412</td>\n",
       "      <td>-0.039493</td>\n",
       "      <td>-0.068332</td>\n",
       "      <td>-0.092204</td>\n",
       "      <td>75.0</td>\n",
       "      <td>67.486483</td>\n",
       "      <td>7.513517</td>\n",
       "      <td>0.139928</td>\n",
       "    </tr>\n",
       "    <tr>\n",
       "      <th>2</th>\n",
       "      <td>0.085299</td>\n",
       "      <td>0.050680</td>\n",
       "      <td>0.044451</td>\n",
       "      <td>-0.005670</td>\n",
       "      <td>-0.045599</td>\n",
       "      <td>-0.034194</td>\n",
       "      <td>-0.032356</td>\n",
       "      <td>-0.002592</td>\n",
       "      <td>0.002861</td>\n",
       "      <td>-0.025930</td>\n",
       "      <td>141.0</td>\n",
       "      <td>180.798238</td>\n",
       "      <td>-39.798238</td>\n",
       "      <td>-0.741184</td>\n",
       "    </tr>\n",
       "    <tr>\n",
       "      <th>3</th>\n",
       "      <td>-0.089063</td>\n",
       "      <td>-0.044642</td>\n",
       "      <td>-0.011595</td>\n",
       "      <td>-0.036656</td>\n",
       "      <td>0.012191</td>\n",
       "      <td>0.024991</td>\n",
       "      <td>-0.036038</td>\n",
       "      <td>0.034309</td>\n",
       "      <td>0.022688</td>\n",
       "      <td>-0.009362</td>\n",
       "      <td>206.0</td>\n",
       "      <td>166.571751</td>\n",
       "      <td>39.428249</td>\n",
       "      <td>0.734293</td>\n",
       "    </tr>\n",
       "    <tr>\n",
       "      <th>4</th>\n",
       "      <td>0.005383</td>\n",
       "      <td>-0.044642</td>\n",
       "      <td>-0.036385</td>\n",
       "      <td>0.021872</td>\n",
       "      <td>0.003935</td>\n",
       "      <td>0.015596</td>\n",
       "      <td>0.008142</td>\n",
       "      <td>-0.002592</td>\n",
       "      <td>-0.031988</td>\n",
       "      <td>-0.046641</td>\n",
       "      <td>135.0</td>\n",
       "      <td>129.815941</td>\n",
       "      <td>5.184059</td>\n",
       "      <td>0.096546</td>\n",
       "    </tr>\n",
       "  </tbody>\n",
       "</table>\n",
       "</div>"
      ],
      "text/plain": [
       "        age       sex       bmi        bp        s1        s2        s3  \\\n",
       "0  0.038076  0.050680  0.061696  0.021872 -0.044223 -0.034821 -0.043401   \n",
       "1 -0.001882 -0.044642 -0.051474 -0.026328 -0.008449 -0.019163  0.074412   \n",
       "2  0.085299  0.050680  0.044451 -0.005670 -0.045599 -0.034194 -0.032356   \n",
       "3 -0.089063 -0.044642 -0.011595 -0.036656  0.012191  0.024991 -0.036038   \n",
       "4  0.005383 -0.044642 -0.036385  0.021872  0.003935  0.015596  0.008142   \n",
       "\n",
       "         s4        s5        s6  Target       yPred   Residual  \\\n",
       "0 -0.002592  0.019907 -0.017646   151.0  211.276563 -60.276563   \n",
       "1 -0.039493 -0.068332 -0.092204    75.0   67.486483   7.513517   \n",
       "2 -0.002592  0.002861 -0.025930   141.0  180.798238 -39.798238   \n",
       "3  0.034309  0.022688 -0.009362   206.0  166.571751  39.428249   \n",
       "4 -0.002592 -0.031988 -0.046641   135.0  129.815941   5.184059   \n",
       "\n",
       "   Standardized Res  \n",
       "0         -1.122563  \n",
       "1          0.139928  \n",
       "2         -0.741184  \n",
       "3          0.734293  \n",
       "4          0.096546  "
      ]
     },
     "execution_count": 9,
     "metadata": {},
     "output_type": "execute_result"
    }
   ],
   "source": [
    "DiaB[\"yPred\"] = model.predict(DiaB)\n",
    "DiaB[\"Residual\"] = DiaB[\"Target\"] - DiaB[\"yPred\"]\n",
    "stdRes = DiaB[\"Residual\"].std()\n",
    "DiaB[\"Standardized Res\"] = DiaB[\"Residual\"]/stdRes\n",
    "DiaB.head()"
   ]
  },
  {
   "cell_type": "markdown",
   "id": "41d63645-6b8d-480e-ae30-9d8bd27494ca",
   "metadata": {},
   "source": [
    "## Make a selected subset of residual plots"
   ]
  },
  {
   "cell_type": "code",
   "execution_count": 20,
   "id": "063a768c-d5ce-4b6b-b191-9f74e0e6aa44",
   "metadata": {},
   "outputs": [
    {
     "data": {
      "image/png": "[encoded data removed]",
      "text/plain": [
       "<Figure size 640x480 with 4 Axes>"
      ]
     },
     "metadata": {},
     "output_type": "display_data"
    }
   ],
   "source": [
    "fig, ((hist1, resYp), (sresBmi, resTarg)) = plt.subplots(2, 2, layout=\"constrained\")\n",
    "DiaB.plot(y=\"Residual\", kind=\"hist\", bins=25, ax=hist1)\n",
    "DiaB.plot(\"yPred\", \"Residual\", kind=\"scatter\", ax=resYp)\n",
    "resYp.axhline(y=0.0, c=\"red\", linestyle=\"dashed\")\n",
    "DiaB.plot(\"bmi\", \"Standardized Res\", kind=\"scatter\", ax=sresBmi)\n",
    "sresBmi.axhline(y=0.0, c=\"red\", linestyle=\"dashed\")\n",
    "DiaB.plot(\"Target\", \"Residual\", kind=\"scatter\", ax=resTarg)\n",
    "resTarg.axhline(y=0.0, c=\"red\", linestyle=\"dashed\")\n",
    "plt.show()"
   ]
  },
  {
   "cell_type": "code",
   "execution_count": null,
   "id": "36d5d3db-c3bb-43eb-9183-0d7ba87aa5cd",
   "metadata": {},
   "outputs": [],
   "source": []
  },
  {
   "cell_type": "code",
   "execution_count": null,
   "id": "a3065de6-11a5-40e2-a4ca-c9d00ae23f53",
   "metadata": {},
   "outputs": [],
   "source": []
  }
 ],
 "metadata": {
  "kernelspec": {
   "display_name": "anaconda-ai-2024.04-py310",
   "language": "python",
   "name": "conda-env-anaconda-ai-2024.04-py310-py"
  },
  "language_info": {
   "codemirror_mode": {
    "name": "ipython",
    "version": 3
   },
   "file_extension": ".py",
   "mimetype": "text/x-python",
   "name": "python",
   "nbconvert_exporter": "python",
   "pygments_lexer": "ipython3",
   "version": "3.10.13"
  }
 },
 "nbformat": 4,
 "nbformat_minor": 5
}
