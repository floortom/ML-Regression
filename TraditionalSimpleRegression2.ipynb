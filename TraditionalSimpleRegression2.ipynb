{
 "cells": [
  {
   "cell_type": "markdown",
   "id": "eabaa9c3-7f3e-4918-bd67-a163f77a01e3",
   "metadata": {},
   "source": [
    "# Data preparation"
   ]
  },
  {
   "cell_type": "code",
   "execution_count": 1,
   "id": "73231b47-edfa-4ab2-9107-a04a2fbde3f1",
   "metadata": {},
   "outputs": [],
   "source": [
    "import numpy as np\n",
    "import pandas as pd"
   ]
  },
  {
   "cell_type": "code",
   "execution_count": 2,
   "id": "4c0be5f2-263f-475c-abb3-438cd82a91ba",
   "metadata": {},
   "outputs": [
    {
     "data": {
      "text/html": [
       "<div>\n",
       "<style scoped>\n",
       "    .dataframe tbody tr th:only-of-type {\n",
       "        vertical-align: middle;\n",
       "    }\n",
       "\n",
       "    .dataframe tbody tr th {\n",
       "        vertical-align: top;\n",
       "    }\n",
       "\n",
       "    .dataframe thead th {\n",
       "        text-align: right;\n",
       "    }\n",
       "</style>\n",
       "<table border=\"1\" class=\"dataframe\">\n",
       "  <thead>\n",
       "    <tr style=\"text-align: right;\">\n",
       "      <th></th>\n",
       "      <th>X</th>\n",
       "      <th>Y</th>\n",
       "    </tr>\n",
       "  </thead>\n",
       "  <tbody>\n",
       "    <tr>\n",
       "      <th>0</th>\n",
       "      <td>10.374912</td>\n",
       "      <td>19.081020</td>\n",
       "    </tr>\n",
       "    <tr>\n",
       "      <th>1</th>\n",
       "      <td>19.039636</td>\n",
       "      <td>14.549363</td>\n",
       "    </tr>\n",
       "    <tr>\n",
       "      <th>2</th>\n",
       "      <td>15.521030</td>\n",
       "      <td>22.277417</td>\n",
       "    </tr>\n",
       "    <tr>\n",
       "      <th>3</th>\n",
       "      <td>16.561458</td>\n",
       "      <td>29.416620</td>\n",
       "    </tr>\n",
       "    <tr>\n",
       "      <th>4</th>\n",
       "      <td>16.584184</td>\n",
       "      <td>26.611369</td>\n",
       "    </tr>\n",
       "    <tr>\n",
       "      <th>...</th>\n",
       "      <td>...</td>\n",
       "      <td>...</td>\n",
       "    </tr>\n",
       "    <tr>\n",
       "      <th>495</th>\n",
       "      <td>511.712432</td>\n",
       "      <td>762.021146</td>\n",
       "    </tr>\n",
       "    <tr>\n",
       "      <th>496</th>\n",
       "      <td>513.798914</td>\n",
       "      <td>763.362677</td>\n",
       "    </tr>\n",
       "    <tr>\n",
       "      <th>497</th>\n",
       "      <td>516.356161</td>\n",
       "      <td>769.994037</td>\n",
       "    </tr>\n",
       "    <tr>\n",
       "      <th>498</th>\n",
       "      <td>518.578324</td>\n",
       "      <td>783.717415</td>\n",
       "    </tr>\n",
       "    <tr>\n",
       "      <th>499</th>\n",
       "      <td>518.643904</td>\n",
       "      <td>779.293042</td>\n",
       "    </tr>\n",
       "  </tbody>\n",
       "</table>\n",
       "<p>500 rows × 2 columns</p>\n",
       "</div>"
      ],
      "text/plain": [
       "              X           Y\n",
       "0     10.374912   19.081020\n",
       "1     19.039636   14.549363\n",
       "2     15.521030   22.277417\n",
       "3     16.561458   29.416620\n",
       "4     16.584184   26.611369\n",
       "..          ...         ...\n",
       "495  511.712432  762.021146\n",
       "496  513.798914  763.362677\n",
       "497  516.356161  769.994037\n",
       "498  518.578324  783.717415\n",
       "499  518.643904  779.293042\n",
       "\n",
       "[500 rows x 2 columns]"
      ]
     },
     "execution_count": 2,
     "metadata": {},
     "output_type": "execute_result"
    }
   ],
   "source": [
    "xVar = []\n",
    "yVar = []\n",
    "\n",
    "for k in range(0, 500):\n",
    "    x = k + 15\n",
    "    xVar.append(x + np.random.normal(loc=0.0, scale = 4))\n",
    "    yVar.append(x * 1.5 + np.random.normal(loc=0.0, scale=6))\n",
    "\n",
    "regrData = pd.DataFrame(list(zip(xVar, yVar)), columns=['X', 'Y'])\n",
    "regrData"
   ]
  },
  {
   "cell_type": "markdown",
   "id": "e3f3af8a-fa63-4b07-b5dc-54113f74e6ea",
   "metadata": {},
   "source": [
    "# Model Analysis"
   ]
  },
  {
   "cell_type": "code",
   "execution_count": 3,
   "id": "5325b378-31ed-4a06-814a-2a52e316fd91",
   "metadata": {},
   "outputs": [],
   "source": [
    "import statsmodels.formula.api as smf"
   ]
  },
  {
   "cell_type": "markdown",
   "id": "e46f971b-e488-480a-81c9-8331dd4c67f9",
   "metadata": {},
   "source": [
    "- Model training and prediction"
   ]
  },
  {
   "cell_type": "code",
   "execution_count": 4,
   "id": "44c0b10e-77e6-42a6-9a2d-ba370554fc33",
   "metadata": {},
   "outputs": [],
   "source": [
    "regrModel = smf.ols(formula=\"Y ~ X\", data=regrData).fit()\n",
    "regrData[\"yPred\"] = regrModel.predict() # Predict new data on the data which the model was trained on."
   ]
  },
  {
   "cell_type": "markdown",
   "id": "61928b17-6e6d-4a44-a99e-19ac4a6d2bb6",
   "metadata": {},
   "source": [
    "- Create residuals from the target data (*Y*) and the predicted data (*yPred*)"
   ]
  },
  {
   "cell_type": "code",
   "execution_count": 5,
   "id": "8555aa40-53e1-4790-8493-bc2bcff509b5",
   "metadata": {},
   "outputs": [
    {
     "data": {
      "text/html": [
       "<div>\n",
       "<style scoped>\n",
       "    .dataframe tbody tr th:only-of-type {\n",
       "        vertical-align: middle;\n",
       "    }\n",
       "\n",
       "    .dataframe tbody tr th {\n",
       "        vertical-align: top;\n",
       "    }\n",
       "\n",
       "    .dataframe thead th {\n",
       "        text-align: right;\n",
       "    }\n",
       "</style>\n",
       "<table border=\"1\" class=\"dataframe\">\n",
       "  <thead>\n",
       "    <tr style=\"text-align: right;\">\n",
       "      <th></th>\n",
       "      <th>X</th>\n",
       "      <th>Y</th>\n",
       "      <th>yPred</th>\n",
       "      <th>residual</th>\n",
       "      <th>standardRes</th>\n",
       "    </tr>\n",
       "  </thead>\n",
       "  <tbody>\n",
       "    <tr>\n",
       "      <th>0</th>\n",
       "      <td>10.374912</td>\n",
       "      <td>19.081020</td>\n",
       "      <td>15.054653</td>\n",
       "      <td>4.026367</td>\n",
       "      <td>0.473086</td>\n",
       "    </tr>\n",
       "    <tr>\n",
       "      <th>1</th>\n",
       "      <td>19.039636</td>\n",
       "      <td>14.549363</td>\n",
       "      <td>28.074952</td>\n",
       "      <td>-13.525589</td>\n",
       "      <td>-1.589216</td>\n",
       "    </tr>\n",
       "    <tr>\n",
       "      <th>2</th>\n",
       "      <td>15.521030</td>\n",
       "      <td>22.277417</td>\n",
       "      <td>22.787616</td>\n",
       "      <td>-0.510199</td>\n",
       "      <td>-0.059947</td>\n",
       "    </tr>\n",
       "    <tr>\n",
       "      <th>3</th>\n",
       "      <td>16.561458</td>\n",
       "      <td>29.416620</td>\n",
       "      <td>24.351045</td>\n",
       "      <td>5.065575</td>\n",
       "      <td>0.595190</td>\n",
       "    </tr>\n",
       "    <tr>\n",
       "      <th>4</th>\n",
       "      <td>16.584184</td>\n",
       "      <td>26.611369</td>\n",
       "      <td>24.385195</td>\n",
       "      <td>2.226173</td>\n",
       "      <td>0.261569</td>\n",
       "    </tr>\n",
       "    <tr>\n",
       "      <th>...</th>\n",
       "      <td>...</td>\n",
       "      <td>...</td>\n",
       "      <td>...</td>\n",
       "      <td>...</td>\n",
       "      <td>...</td>\n",
       "    </tr>\n",
       "    <tr>\n",
       "      <th>495</th>\n",
       "      <td>511.712432</td>\n",
       "      <td>762.021146</td>\n",
       "      <td>768.403962</td>\n",
       "      <td>-6.382816</td>\n",
       "      <td>-0.749962</td>\n",
       "    </tr>\n",
       "    <tr>\n",
       "      <th>496</th>\n",
       "      <td>513.798914</td>\n",
       "      <td>763.362677</td>\n",
       "      <td>771.539274</td>\n",
       "      <td>-8.176597</td>\n",
       "      <td>-0.960726</td>\n",
       "    </tr>\n",
       "    <tr>\n",
       "      <th>497</th>\n",
       "      <td>516.356161</td>\n",
       "      <td>769.994037</td>\n",
       "      <td>775.381995</td>\n",
       "      <td>-5.387958</td>\n",
       "      <td>-0.633069</td>\n",
       "    </tr>\n",
       "    <tr>\n",
       "      <th>498</th>\n",
       "      <td>518.578324</td>\n",
       "      <td>783.717415</td>\n",
       "      <td>778.721193</td>\n",
       "      <td>4.996222</td>\n",
       "      <td>0.587041</td>\n",
       "    </tr>\n",
       "    <tr>\n",
       "      <th>499</th>\n",
       "      <td>518.643904</td>\n",
       "      <td>779.293042</td>\n",
       "      <td>778.819739</td>\n",
       "      <td>0.473303</td>\n",
       "      <td>0.055612</td>\n",
       "    </tr>\n",
       "  </tbody>\n",
       "</table>\n",
       "<p>500 rows × 5 columns</p>\n",
       "</div>"
      ],
      "text/plain": [
       "              X           Y       yPred   residual  standardRes\n",
       "0     10.374912   19.081020   15.054653   4.026367     0.473086\n",
       "1     19.039636   14.549363   28.074952 -13.525589    -1.589216\n",
       "2     15.521030   22.277417   22.787616  -0.510199    -0.059947\n",
       "3     16.561458   29.416620   24.351045   5.065575     0.595190\n",
       "4     16.584184   26.611369   24.385195   2.226173     0.261569\n",
       "..          ...         ...         ...        ...          ...\n",
       "495  511.712432  762.021146  768.403962  -6.382816    -0.749962\n",
       "496  513.798914  763.362677  771.539274  -8.176597    -0.960726\n",
       "497  516.356161  769.994037  775.381995  -5.387958    -0.633069\n",
       "498  518.578324  783.717415  778.721193   4.996222     0.587041\n",
       "499  518.643904  779.293042  778.819739   0.473303     0.055612\n",
       "\n",
       "[500 rows x 5 columns]"
      ]
     },
     "execution_count": 5,
     "metadata": {},
     "output_type": "execute_result"
    }
   ],
   "source": [
    "regrData[\"residual\"] = regrData[\"Y\"] - regrData[\"yPred\"]\n",
    "stdRes = regrData[\"residual\"].std()\n",
    "regrData[\"standardRes\"] = regrData[\"residual\"] / stdRes\n",
    "regrData"
   ]
  },
  {
   "cell_type": "markdown",
   "id": "beef6f3f-d92e-4fe4-816c-bbb5a3366cfd",
   "metadata": {},
   "source": [
    "## Plotting"
   ]
  },
  {
   "cell_type": "code",
   "execution_count": 6,
   "id": "f1291701-d157-4a51-8dc1-4502af564281",
   "metadata": {},
   "outputs": [],
   "source": [
    "import matplotlib.pyplot as plt"
   ]
  },
  {
   "cell_type": "markdown",
   "id": "68a07604-47e7-4910-b5ce-a40a790eda9a",
   "metadata": {},
   "source": [
    "- histogram of residuals\n"
   ]
  },
  {
   "cell_type": "markdown",
   "id": "76772131-1705-4c48-8076-68fc96512e5a",
   "metadata": {},
   "source": [
    "- residual spread vs independent variable"
   ]
  },
  {
   "cell_type": "markdown",
   "id": "86c466ba-8b96-456d-85da-84d2c906ea94",
   "metadata": {},
   "source": [
    "- residual spread vs dependent variable"
   ]
  },
  {
   "cell_type": "markdown",
   "id": "a7ee80a6-6184-4993-abc6-b2c9dd6aeda2",
   "metadata": {},
   "source": [
    "- standardised residual spread vs independent variable"
   ]
  },
  {
   "cell_type": "code",
   "execution_count": 7,
   "id": "f3911c23-75dd-456c-b008-59921179768e",
   "metadata": {},
   "outputs": [
    {
     "data": {
      "image/png": "[encoded data removed]",
      "text/plain": [
       "<Figure size 640x480 with 4 Axes>"
      ]
     },
     "metadata": {},
     "output_type": "display_data"
    }
   ],
   "source": [
    "fig, ((hist1, resX2), (resY3, sresX4)) = plt.subplots(2, 2)\n",
    "regrData.plot(kind=\"hist\", y=\"residual\", bins=50, ax=hist1)\n",
    "regrData.plot(kind=\"scatter\", x=\"X\", y=\"residual\", ax=resX2)\n",
    "resX2.axhline(y=0.0, c=\"red\", linestyle=\"dashed\")\n",
    "regrData.plot(kind=\"scatter\", x=\"yPred\", y=\"residual\", ax=resY3)\n",
    "resY3.axhline(y=0.0, c=\"red\", linestyle=\"dashed\")\n",
    "regrData.plot(kind=\"scatter\", x=\"X\", y=\"standardRes\", ax=sresX4)\n",
    "sresX4.axhline(y=0.0, c=\"red\", linestyle=\"dashed\")\n",
    "fig.tight_layout()\n",
    "plt.show()"
   ]
  },
  {
   "cell_type": "markdown",
   "id": "82a3ad13-6091-4a90-b18e-2a5e7bf23646",
   "metadata": {},
   "source": [
    "A good exercise is to check how these spreads change with different data sizes - the `range()` limits."
   ]
  },
  {
   "cell_type": "markdown",
   "id": "fcaef099-d846-44f4-8079-41de946fa819",
   "metadata": {},
   "source": [
    "## Parameters and diagnostic summaries"
   ]
  },
  {
   "cell_type": "code",
   "execution_count": 8,
   "id": "44298acd-9382-4a68-8a75-267f85e55f57",
   "metadata": {},
   "outputs": [
    {
     "data": {
      "text/plain": [
       "Intercept   -0.535508\n",
       "X            1.502679\n",
       "dtype: float64"
      ]
     },
     "execution_count": 8,
     "metadata": {},
     "output_type": "execute_result"
    }
   ],
   "source": [
    "regrModel.params"
   ]
  },
  {
   "cell_type": "code",
   "execution_count": 9,
   "id": "f7e7276d-fb1e-4d01-b5f3-ce80d655d9c4",
   "metadata": {},
   "outputs": [
    {
     "name": "stdout",
     "output_type": "stream",
     "text": [
      "                            OLS Regression Results                            \n",
      "==============================================================================\n",
      "Dep. Variable:                      Y   R-squared:                       0.998\n",
      "Model:                            OLS   Adj. R-squared:                  0.998\n",
      "Method:                 Least Squares   F-statistic:                 3.231e+05\n",
      "Date:                Thu, 21 Aug 2025   Prob (F-statistic):               0.00\n",
      "Time:                        06:45:56   Log-Likelihood:                -1779.6\n",
      "No. Observations:                 500   AIC:                             3563.\n",
      "Df Residuals:                     498   BIC:                             3572.\n",
      "Df Model:                           1                                         \n",
      "Covariance Type:            nonrobust                                         \n",
      "==============================================================================\n",
      "                 coef    std err          t      P>|t|      [0.025      0.975]\n",
      "------------------------------------------------------------------------------\n",
      "Intercept     -0.5355      0.796     -0.673      0.502      -2.100       1.029\n",
      "X              1.5027      0.003    568.398      0.000       1.497       1.508\n",
      "==============================================================================\n",
      "Omnibus:                        1.778   Durbin-Watson:                   2.060\n",
      "Prob(Omnibus):                  0.411   Jarque-Bera (JB):                1.789\n",
      "Skew:                           0.096   Prob(JB):                        0.409\n",
      "Kurtosis:                       2.779   Cond. No.                         629.\n",
      "==============================================================================\n",
      "\n",
      "Notes:\n",
      "[1] Standard Errors assume that the covariance matrix of the errors is correctly specified.\n"
     ]
    }
   ],
   "source": [
    "print(regrModel.summary())"
   ]
  },
  {
   "cell_type": "markdown",
   "id": "8f87df32-7ff3-4c99-95cf-cbaf980c6b05",
   "metadata": {},
   "source": [
    "https://www.geeksforgeeks.org/machine-learning/interpreting-the-results-of-linear-regression-using-ols-summary/"
   ]
  },
  {
   "cell_type": "code",
   "execution_count": null,
   "id": "5c71b273-919e-4d03-9731-8cec5a9e4a53",
   "metadata": {},
   "outputs": [],
   "source": []
  }
 ],
 "metadata": {
  "kernelspec": {
   "display_name": "anaconda-ai-2024.04-py310",
   "language": "python",
   "name": "conda-env-anaconda-ai-2024.04-py310-py"
  },
  "language_info": {
   "codemirror_mode": {
    "name": "ipython",
    "version": 3
   },
   "file_extension": ".py",
   "mimetype": "text/x-python",
   "name": "python",
   "nbconvert_exporter": "python",
   "pygments_lexer": "ipython3",
   "version": "3.10.13"
  }
 },
 "nbformat": 4,
 "nbformat_minor": 5
}
